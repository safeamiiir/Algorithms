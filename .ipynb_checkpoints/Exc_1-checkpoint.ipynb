{
 "cells": [
  {
   "cell_type": "code",
   "execution_count": 10,
   "metadata": {},
   "outputs": [],
   "source": [
    "import numpy as np"
   ]
  },
  {
   "cell_type": "code",
   "execution_count": 11,
   "metadata": {},
   "outputs": [
    {
     "name": "stdout",
     "output_type": "stream",
     "text": [
      "Hey, we want to make N*N Square (N should make this way => N = 2^k; k is member of 'Natural Numbers')\n",
      "import \"N\", (\"i\",\"j\") \n",
      "4 2 1\n"
     ]
    }
   ],
   "source": [
    "print('Hey, we want to make N*N Square (N should make this way => N = 2^k; k is member of \\'Natural Numbers\\')')\n",
    "[n, i, j] = input('import \\\"N\\\", (\\\"i\\\",\\\"j\\\") \\n').split()\n",
    "n = int(n)\n",
    "i = int(i) - 1 # handle 0 at array\n",
    "j = int(j) - 1 # handle 0 at array"
   ]
  },
  {
   "cell_type": "code",
   "execution_count": 18,
   "metadata": {},
   "outputs": [
    {
     "name": "stdout",
     "output_type": "stream",
     "text": [
      "n = 4\n",
      "(i,j) = 2 1\n"
     ]
    }
   ],
   "source": [
    "print('n =', n)\n",
    "print('(i,j) =', i+1, j+1)"
   ]
  },
  {
   "cell_type": "code",
   "execution_count": 21,
   "metadata": {},
   "outputs": [],
   "source": [
    "board = np.full([n, n], '00')\n",
    "board[i][j] = 'xx'"
   ]
  },
  {
   "cell_type": "code",
   "execution_count": 22,
   "metadata": {},
   "outputs": [
    {
     "name": "stdout",
     "output_type": "stream",
     "text": [
      "initialized board:\n",
      " [['00' '00' '00' '00']\n",
      " ['xx' '00' '00' '00']\n",
      " ['00' '00' '00' '00']\n",
      " ['00' '00' '00' '00']]\n"
     ]
    }
   ],
   "source": [
    "print('initialized board:\\n', board)"
   ]
  },
  {
   "cell_type": "code",
   "execution_count": 23,
   "metadata": {},
   "outputs": [],
   "source": [
    "def set_tile(n, i, j, my_board):\n",
    "    n_half = int(n/2)\n",
    "    if('00' in board and n_half > 0):\n",
    "        print('\\n')        \n",
    "        print(board)\n",
    "        if(i < n_half and j < n_half): #1\n",
    "# #             print('in #1')\n",
    "            my_board[n_half][n_half] = '**'\n",
    "            my_board[n_half-1][n_half] = '**'\n",
    "            my_board[n_half][n_half-1] = '**'\n",
    "            set_tile(n_half, i, j, my_board[:n_half, :n_half])\n",
    "            set_tile(n_half, n_half-1, 0, my_board[:n_half, n_half:])\n",
    "            set_tile(n_half, 0, n_half-1, my_board[n_half:, :n_half])\n",
    "            set_tile(n_half, 0, 0, my_board[n_half:, n_half:])\n",
    "            \n",
    "        elif(i < n_half and j >= n_half): #2\n",
    "#             print('in #2')\n",
    "            my_board[n_half-1][n_half-1] = '**'\n",
    "            my_board[n_half][n_half-1] = '**'\n",
    "            my_board[n_half][n_half] = '**'\n",
    "            set_tile(n_half, n_half-1, n_half-1, my_board[:n_half, :n_half])\n",
    "            set_tile(n_half, i, j-n_half, my_board[:n_half, n_half:])\n",
    "            set_tile(n_half, 0, n_half-1, my_board[n_half:, :n_half])\n",
    "            set_tile(n_half, 0, 0, my_board[n_half:, n_half:])\n",
    "            \n",
    "        elif(i >= n_half and j < n_half): #3\n",
    "#             print('in #3')            \n",
    "            my_board[n_half-1][n_half-1] = '**'\n",
    "            my_board[n_half-1][n_half] = '**'\n",
    "            my_board[n_half][n_half] = '**'\n",
    "            set_tile(n_half, n_half-1, n_half-1, my_board[:n_half, :n_half])\n",
    "            set_tile(n_half, n_half-1, 0, my_board[:n_half, n_half:])\n",
    "            set_tile(n_half, i-n_half, j, my_board[n_half:, :n_half])\n",
    "            set_tile(n_half, 0, 0, my_board[n_half:, n_half:])       \n",
    "            \n",
    "        elif(i >= n_half and j >= n_half): #4\n",
    "#             print('in #4')            \n",
    "            my_board[n_half-1][n_half-1] = '**'\n",
    "            my_board[n_half-1][n_half] = '**'\n",
    "            my_board[n_half][n_half-1] = '**'\n",
    "            set_tile(n_half, n_half-1, n_half-1, my_board[:n_half, :n_half])\n",
    "            set_tile(n_half, n_half-1, 0, my_board[:n_half, n_half:])\n",
    "            set_tile(n_half, 0, n_half-1, my_board[n_half:, :n_half])\n",
    "            set_tile(n_half, i-n_half, j-n_half, my_board[n_half:, n_half:]) \n",
    "    "
   ]
  },
  {
   "cell_type": "code",
   "execution_count": 24,
   "metadata": {},
   "outputs": [
    {
     "name": "stdout",
     "output_type": "stream",
     "text": [
      "\n",
      "\n",
      "[['00' '00' '00' '00']\n",
      " ['xx' '00' '00' '00']\n",
      " ['00' '00' '00' '00']\n",
      " ['00' '00' '00' '00']]\n",
      "\n",
      "\n",
      "[['00' '00' '00' '00']\n",
      " ['xx' '00' '**' '00']\n",
      " ['00' '**' '**' '00']\n",
      " ['00' '00' '00' '00']]\n",
      "\n",
      "\n",
      "[['**' '**' '00' '00']\n",
      " ['xx' '**' '**' '00']\n",
      " ['00' '**' '**' '00']\n",
      " ['00' '00' '00' '00']]\n",
      "\n",
      "\n",
      "[['**' '**' '**' '**']\n",
      " ['xx' '**' '**' '**']\n",
      " ['00' '**' '**' '00']\n",
      " ['00' '00' '00' '00']]\n",
      "\n",
      "\n",
      "[['**' '**' '**' '**']\n",
      " ['xx' '**' '**' '**']\n",
      " ['**' '**' '**' '00']\n",
      " ['**' '**' '00' '00']]\n"
     ]
    }
   ],
   "source": [
    "set_tile(n, i, j, board)"
   ]
  },
  {
   "cell_type": "code",
   "execution_count": 25,
   "metadata": {},
   "outputs": [
    {
     "name": "stdout",
     "output_type": "stream",
     "text": [
      "Final Board:\n",
      " [['**' '**' '**' '**']\n",
      " ['xx' '**' '**' '**']\n",
      " ['**' '**' '**' '**']\n",
      " ['**' '**' '**' '**']]\n"
     ]
    }
   ],
   "source": [
    "print('Final Board:\\n', board)"
   ]
  },
  {
   "cell_type": "code",
   "execution_count": 26,
   "metadata": {},
   "outputs": [
    {
     "name": "stdout",
     "output_type": "stream",
     "text": [
      "Hey, we want to make N*N Square (N should make this way => N = 2^k; k is member of 'Natural Numbers')\n",
      "import \"N\", (\"i\",\"j\") \n",
      "4 2 1\n",
      "n = 4\n",
      "(i,j) = 2 1\n",
      "initialized board:\n",
      " [['00' '00' '00' '00']\n",
      " ['xx' '00' '00' '00']\n",
      " ['00' '00' '00' '00']\n",
      " ['00' '00' '00' '00']]\n",
      "\n",
      "\n",
      "[['00' '00' '00' '00']\n",
      " ['xx' '00' '00' '00']\n",
      " ['00' '00' '00' '00']\n",
      " ['00' '00' '00' '00']]\n",
      "\n",
      "\n",
      "[['00' '00' '00' '00']\n",
      " ['xx' '00' '**' '00']\n",
      " ['00' '**' '**' '00']\n",
      " ['00' '00' '00' '00']]\n",
      "\n",
      "\n",
      "[['**' '**' '00' '00']\n",
      " ['xx' '**' '**' '00']\n",
      " ['00' '**' '**' '00']\n",
      " ['00' '00' '00' '00']]\n",
      "\n",
      "\n",
      "[['**' '**' '**' '**']\n",
      " ['xx' '**' '**' '**']\n",
      " ['00' '**' '**' '00']\n",
      " ['00' '00' '00' '00']]\n",
      "\n",
      "\n",
      "[['**' '**' '**' '**']\n",
      " ['xx' '**' '**' '**']\n",
      " ['**' '**' '**' '00']\n",
      " ['**' '**' '00' '00']]\n",
      "Final Board:\n",
      " [['**' '**' '**' '**']\n",
      " ['xx' '**' '**' '**']\n",
      " ['**' '**' '**' '**']\n",
      " ['**' '**' '**' '**']]\n"
     ]
    }
   ],
   "source": [
    "import numpy as np\n",
    "print('Hey, we want to make N*N Square (N should make this way => N = 2^k; k is member of \\'Natural Numbers\\')')\n",
    "[n, i, j] = input('import \\\"N\\\", (\\\"i\\\",\\\"j\\\") \\n').split()\n",
    "n = int(n)\n",
    "i = int(i) - 1 # handle 0 at array\n",
    "j = int(j) - 1 # handle 0 at array\n",
    "print('n =', n)\n",
    "print('(i,j) =', i+1, j+1)\n",
    "board = np.full([n, n], '00')\n",
    "board[i][j] = 'xx'\n",
    "print('initialized board:\\n', board)\n",
    "\n",
    "def set_tile(n, i, j, my_board):\n",
    "    n_half = int(n/2)\n",
    "    if('00' in board and n_half > 0):\n",
    "        print('\\n')        \n",
    "        print(board)\n",
    "        if(i < n_half and j < n_half): #1\n",
    "# #             print('in #1')\n",
    "            my_board[n_half][n_half] = '**'\n",
    "            my_board[n_half-1][n_half] = '**'\n",
    "            my_board[n_half][n_half-1] = '**'\n",
    "            set_tile(n_half, i, j, my_board[:n_half, :n_half])\n",
    "            set_tile(n_half, n_half-1, 0, my_board[:n_half, n_half:])\n",
    "            set_tile(n_half, 0, n_half-1, my_board[n_half:, :n_half])\n",
    "            set_tile(n_half, 0, 0, my_board[n_half:, n_half:])\n",
    "            \n",
    "        elif(i < n_half and j >= n_half): #2\n",
    "#             print('in #2')\n",
    "            my_board[n_half-1][n_half-1] = '**'\n",
    "            my_board[n_half][n_half-1] = '**'\n",
    "            my_board[n_half][n_half] = '**'\n",
    "            set_tile(n_half, n_half-1, n_half-1, my_board[:n_half, :n_half])\n",
    "            set_tile(n_half, i, j-n_half, my_board[:n_half, n_half:])\n",
    "            set_tile(n_half, 0, n_half-1, my_board[n_half:, :n_half])\n",
    "            set_tile(n_half, 0, 0, my_board[n_half:, n_half:])\n",
    "            \n",
    "        elif(i >= n_half and j < n_half): #3\n",
    "#             print('in #3')            \n",
    "            my_board[n_half-1][n_half-1] = '**'\n",
    "            my_board[n_half-1][n_half] = '**'\n",
    "            my_board[n_half][n_half] = '**'\n",
    "            set_tile(n_half, n_half-1, n_half-1, my_board[:n_half, :n_half])\n",
    "            set_tile(n_half, n_half-1, 0, my_board[:n_half, n_half:])\n",
    "            set_tile(n_half, i-n_half, j, my_board[n_half:, :n_half])\n",
    "            set_tile(n_half, 0, 0, my_board[n_half:, n_half:])       \n",
    "            \n",
    "        elif(i >= n_half and j >= n_half): #4\n",
    "#             print('in #4')            \n",
    "            my_board[n_half-1][n_half-1] = '**'\n",
    "            my_board[n_half-1][n_half] = '**'\n",
    "            my_board[n_half][n_half-1] = '**'\n",
    "            set_tile(n_half, n_half-1, n_half-1, my_board[:n_half, :n_half])\n",
    "            set_tile(n_half, n_half-1, 0, my_board[:n_half, n_half:])\n",
    "            set_tile(n_half, 0, n_half-1, my_board[n_half:, :n_half])\n",
    "            set_tile(n_half, i-n_half, j-n_half, my_board[n_half:, n_half:]) \n",
    "\n",
    "set_tile(n, i, j, board)\n",
    "print('Final Board:\\n', board)"
   ]
  },
  {
   "cell_type": "code",
   "execution_count": null,
   "metadata": {},
   "outputs": [],
   "source": []
  }
 ],
 "metadata": {
  "kernelspec": {
   "display_name": "Python 3",
   "language": "python",
   "name": "python3"
  },
  "language_info": {
   "codemirror_mode": {
    "name": "ipython",
    "version": 3
   },
   "file_extension": ".py",
   "mimetype": "text/x-python",
   "name": "python",
   "nbconvert_exporter": "python",
   "pygments_lexer": "ipython3",
   "version": "3.7.3"
  }
 },
 "nbformat": 4,
 "nbformat_minor": 2
}
