{
 "cells": [
  {
   "cell_type": "code",
   "execution_count": 153,
   "metadata": {},
   "outputs": [
    {
     "name": "stdout",
     "output_type": "stream",
     "text": [
      " Please enter number of n:\n",
      "2\n",
      " Now, please enter n * n items of array:\n",
      "\n",
      "1 2\n",
      "4 0\n"
     ]
    }
   ],
   "source": [
    "n = int(input('Please enter number of n:\\n'))\n",
    "arr = []\n",
    "print('Now, please enter n * n items of array:\\n')\n",
    "for i in range(n):\n",
    "    items = input().split(' ')\n",
    "    for j in range(0, len(items)): \n",
    "        items[j] = int(items[j]) \n",
    "    arr.append(items)"
   ]
  },
  {
   "cell_type": "code",
   "execution_count": 154,
   "metadata": {},
   "outputs": [
    {
     "name": "stdout",
     "output_type": "stream",
     "text": [
      "Array is: \n",
      " [[1, 2], [4, 0]]\n"
     ]
    }
   ],
   "source": [
    "print('Array is: \\n', arr)"
   ]
  },
  {
   "cell_type": "code",
   "execution_count": 158,
   "metadata": {},
   "outputs": [
    {
     "name": "stdout",
     "output_type": "stream",
     "text": [
      "\n",
      "----Answer-----\n",
      "Peak Element is: 2\n",
      "Peak Element position is: (0, 1)\n"
     ]
    }
   ],
   "source": [
    "from math import ceil \n",
    "\n",
    "MAX = 99999999\n",
    "positions = []\n",
    "  \n",
    "def findMax(arr, n, mid,max): \n",
    "    max_index = 0\n",
    "    for i in range(n): \n",
    "        if (max < arr[i][mid]): \n",
    "            max = arr[i][mid] \n",
    "            max_index = i \n",
    "    return max,max_index \n",
    "  \n",
    "def findPeakRec(arr, n, mid): \n",
    "    max = 0\n",
    "    max, max_index = findMax(arr, n, mid, max) \n",
    "    positions.append((max_index, mid))\n",
    "    if (mid == 0 or mid == n - 1): \n",
    "        return max  \n",
    "    if (max >= arr[max_index][mid - 1] and max >= arr[max_index][mid + 1]): \n",
    "        return max  \n",
    "    if (max < arr[max_index][mid - 1]): \n",
    "        return findPeakRec(arr, n, mid - ceil(mid / 2.0))   \n",
    "    return findPeakRec(arr, n, mid + ceil(mid / 2.0)) \n",
    "  \n",
    "def findPeak(arr, n): \n",
    "    return findPeakRec(arr, n, n // 2) \n",
    "\n",
    "print('\\n----Answer-----') \n",
    "print('Peak Element is:', findPeak(arr, n)) \n",
    "print('Peak Element position is:',positions[-1])"
   ]
  },
  {
   "cell_type": "code",
   "execution_count": 160,
   "metadata": {},
   "outputs": [
    {
     "name": "stdout",
     "output_type": "stream",
     "text": [
      "Please enter number of n:\n",
      "3\n",
      "Now, please enter n * n items of array:\n",
      "\n",
      "1 2 4\n",
      "3 6 7\n",
      "1 7 3\n",
      "\n",
      "Matrix is: \n",
      " [[1, 2, 4], [3, 6, 7], [1, 7, 3]]\n",
      "\n",
      "----Answer-----\n",
      "Peak Element is: 7\n",
      "Peak Element position is: (2, 1)\n"
     ]
    }
   ],
   "source": []
  }
 ],
 "metadata": {
  "kernelspec": {
   "display_name": "Python 3",
   "language": "python",
   "name": "python3"
  },
  "language_info": {
   "codemirror_mode": {
    "name": "ipython",
    "version": 3
   },
   "file_extension": ".py",
   "mimetype": "text/x-python",
   "name": "python",
   "nbconvert_exporter": "python",
   "pygments_lexer": "ipython3",
   "version": "3.7.3"
  }
 },
 "nbformat": 4,
 "nbformat_minor": 2
}
