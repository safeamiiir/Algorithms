{
 "cells": [
  {
   "cell_type": "code",
   "execution_count": 132,
   "metadata": {},
   "outputs": [
    {
     "name": "stdout",
     "output_type": "stream",
     "text": [
      "Enter number of creators in OEX:\n",
      "2\n",
      "Enter position of creators in OEX:\n",
      "2 1\n",
      "Enter speed of creators in OEX:\n",
      "-2 -1\n"
     ]
    }
   ],
   "source": [
    "number = int(input('Enter number of creators in OEX:\\n'))\n",
    "positions = [int(item) for item in input('Enter position of creators in OEX:\\n').split(' ')]\n",
    "speeds = [int(item) for item in input('Enter speed of creators in OEX:\\n').split(' ')]"
   ]
  },
  {
   "cell_type": "code",
   "execution_count": 133,
   "metadata": {},
   "outputs": [
    {
     "name": "stdout",
     "output_type": "stream",
     "text": [
      "number: 2\n",
      "speeds: [-2, -1]\n",
      "positions: [2, 1]\n",
      "city: {2: -2, 1: -1}\n"
     ]
    }
   ],
   "source": [
    "print('number:', number)\n",
    "print('speeds:', speeds)\n",
    "print('positions:', positions)\n",
    "city = dict(zip(positions, speeds))\n",
    "print('city:', city)"
   ]
  },
  {
   "cell_type": "code",
   "execution_count": 134,
   "metadata": {},
   "outputs": [
    {
     "name": "stdout",
     "output_type": "stream",
     "text": [
      "cityArr: [-1, -2]\n"
     ]
    }
   ],
   "source": [
    "sortedCity = {k: v for k, v in sorted(city.items(), key=lambda item: item[0])}\n",
    "cityArr = list(sortedCity.values())\n",
    "print('cityArr:', cityArr)"
   ]
  },
  {
   "cell_type": "code",
   "execution_count": 135,
   "metadata": {},
   "outputs": [
    {
     "data": {
      "text/plain": [
       "[-1, -2]"
      ]
     },
     "execution_count": 135,
     "metadata": {},
     "output_type": "execute_result"
    }
   ],
   "source": [
    "cityArr"
   ]
  },
  {
   "cell_type": "code",
   "execution_count": 136,
   "metadata": {},
   "outputs": [
    {
     "name": "stdout",
     "output_type": "stream",
     "text": [
      "The Answer is: 0\n"
     ]
    }
   ],
   "source": [
    "opt = 0\n",
    "for i, iValue in enumerate(cityArr):\n",
    "    for j, jValue in enumerate(cityArr):\n",
    "        if( i < j): # to check only after iValue\n",
    "            if( iValue > jValue ):\n",
    "                pass # DO Nothing\n",
    "            else:\n",
    "                opt += j - i\n",
    "print('The Answer is:', opt)         "
   ]
  }
 ],
 "metadata": {
  "kernelspec": {
   "display_name": "Python 3",
   "language": "python",
   "name": "python3"
  },
  "language_info": {
   "codemirror_mode": {
    "name": "ipython",
    "version": 3
   },
   "file_extension": ".py",
   "mimetype": "text/x-python",
   "name": "python",
   "nbconvert_exporter": "python",
   "pygments_lexer": "ipython3",
   "version": "3.7.3"
  }
 },
 "nbformat": 4,
 "nbformat_minor": 2
}
