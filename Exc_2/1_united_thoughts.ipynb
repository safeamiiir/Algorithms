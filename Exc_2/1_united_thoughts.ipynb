{
 "cells": [
  {
   "cell_type": "code",
   "execution_count": 86,
   "metadata": {},
   "outputs": [
    {
     "name": "stdout",
     "output_type": "stream",
     "text": [
      "Enter number of creators in OEX:\n",
      "3\n",
      "Enter position of creators in OEX:\n",
      "2 3 4 5 1\n",
      "Enter speed of creators in OEX:\n",
      "2 3 2 4 2\n"
     ]
    }
   ],
   "source": [
    "number = int(input('Enter number of creators in OEX:\\n'))\n",
    "positions = [int(item) for item in input('Enter position of creators in OEX:\\n').split(' ')]\n",
    "speeds = [int(item) for item in input('Enter speed of creators in OEX:\\n').split(' ')]"
   ]
  },
  {
   "cell_type": "code",
   "execution_count": 87,
   "metadata": {},
   "outputs": [
    {
     "name": "stdout",
     "output_type": "stream",
     "text": [
      "number: 3\n",
      "speeds: [2, 3, 2, 4, 2]\n",
      "positions: [2, 3, 4, 5, 1]\n",
      "city: {2: 2, 3: 3, 4: 2, 5: 4, 1: 2}\n"
     ]
    }
   ],
   "source": [
    "print('number:', number)\n",
    "print('speeds:', speeds)\n",
    "print('positions:', positions)\n",
    "city = dict(zip(positions, speeds))\n",
    "print('city:', city)"
   ]
  },
  {
   "cell_type": "code",
   "execution_count": 88,
   "metadata": {},
   "outputs": [
    {
     "name": "stdout",
     "output_type": "stream",
     "text": [
      "cityArr: [2, 2, 3, 2, 4]\n"
     ]
    }
   ],
   "source": [
    "sortedCity = {k: v for k, v in sorted(city.items(), key=lambda item: item[0])}\n",
    "cityArr = list(sortedCity.values())\n",
    "print('cityArr:', cityArr)"
   ]
  },
  {
   "cell_type": "code",
   "execution_count": 89,
   "metadata": {},
   "outputs": [
    {
     "data": {
      "text/plain": [
       "[2, 2, 3, 2, 4]"
      ]
     },
     "execution_count": 89,
     "metadata": {},
     "output_type": "execute_result"
    }
   ],
   "source": [
    "cityArr"
   ]
  },
  {
   "cell_type": "code",
   "execution_count": 90,
   "metadata": {},
   "outputs": [
    {
     "name": "stdout",
     "output_type": "stream",
     "text": [
      "The Answer is: 19\n"
     ]
    }
   ],
   "source": [
    "opt = 0\n",
    "for i, iValue in enumerate(cityArr):\n",
    "    for j, jValue in enumerate(cityArr):\n",
    "        if( i < j): # to check only after iValue\n",
    "            if( iValue > jValue ):\n",
    "                pass # DO Nothing\n",
    "            else:\n",
    "                opt += j - i\n",
    "print('The Answer is:', opt)         "
   ]
  },
  {
   "cell_type": "code",
   "execution_count": 2,
   "metadata": {},
   "outputs": [
    {
     "name": "stdout",
     "output_type": "stream",
     "text": [
      "[0, 1, 3, 2, 4]\n"
     ]
    },
    {
     "data": {
      "text/plain": [
       "(1, 3)"
      ]
     },
     "execution_count": 2,
     "metadata": {},
     "output_type": "execute_result"
    }
   ],
   "source": [
    "# Just needs to find distances... it is not done yet! but it is in O(n * lgn)\n",
    "\n",
    "import math\n",
    "       \n",
    "def closest_pair_1D(s):\n",
    "\n",
    "    def sort_i_x_1D(s):\n",
    "        return [u for (u, i) in sorted(enumerate(s), key = lambda p: p[1])]\n",
    "\n",
    "    s_x = sort_i_x_1D(s)\n",
    "    print(s_x)\n",
    "\n",
    "    def distance(i,j):\n",
    "        return abs(s[i]-s[j])\n",
    "\n",
    "    def search(i, j):\n",
    "        if i >= j:\n",
    "            return None\n",
    "        elif i + 1 == j:\n",
    "            return (s_x[i], s_x[j])\n",
    "        else:\n",
    "            k = (i + j) // 2\n",
    "            left = search(i, k)\n",
    "            right = search(k, j)\n",
    "            (i_left, j_left) = left\n",
    "            (i_right, j_right) = right\n",
    "            if left is None:\n",
    "                (i_min, j_min) = right\n",
    "            elif right is None:\n",
    "                (i_min, j_min) = left\n",
    "            else:\n",
    "                d_left = distance(i_left, j_left)\n",
    "                d_right = distance(i_right, j_right)\n",
    "                if d_left < d_right:\n",
    "                    (i_min, j_min) = left\n",
    "                else:\n",
    "                    (i_min, j_min) = right\n",
    "            return (i_min, j_min)\n",
    "    return search(0, len(s) - 1)\n",
    "\n",
    "closest_pair_1D([2, 2, 3, 2, 4])\n"
   ]
  },
  {
   "cell_type": "code",
   "execution_count": null,
   "metadata": {},
   "outputs": [],
   "source": []
  }
 ],
 "metadata": {
  "kernelspec": {
   "display_name": "Python 3",
   "language": "python",
   "name": "python3"
  },
  "language_info": {
   "codemirror_mode": {
    "name": "ipython",
    "version": 3
   },
   "file_extension": ".py",
   "mimetype": "text/x-python",
   "name": "python",
   "nbconvert_exporter": "python",
   "pygments_lexer": "ipython3",
   "version": "3.7.3"
  }
 },
 "nbformat": 4,
 "nbformat_minor": 2
}
