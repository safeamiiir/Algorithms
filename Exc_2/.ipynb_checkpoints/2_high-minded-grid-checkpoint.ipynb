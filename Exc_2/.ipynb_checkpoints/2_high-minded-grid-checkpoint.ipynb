{
 "cells": [
  {
   "cell_type": "code",
   "execution_count": 1,
   "metadata": {},
   "outputs": [
    {
     "name": "stdout",
     "output_type": "stream",
     "text": [
      "21\n"
     ]
    }
   ],
   "source": [
    "# Finding peak element in a 2D Array. \n",
    "MAX = 100\n",
    "from math import ceil \n",
    "  \n",
    "# Function to find the maximum in column 'mid' \n",
    "# 'rows' is number of rows. \n",
    "def findMax(arr, rows, mid,max): \n",
    "  \n",
    "    max_index = 0\n",
    "    for i in range(rows): \n",
    "        if (max < arr[i][mid]): \n",
    "              \n",
    "            # Saving global maximum and its index \n",
    "            # to check its neighbours \n",
    "            max = arr[i][mid] \n",
    "            max_index = i \n",
    "    #print(max_index) \n",
    "  \n",
    "    return max,max_index \n",
    "  \n",
    "# Function to find a peak element \n",
    "def findPeakRec(arr, rows, columns,mid): \n",
    "  \n",
    "    # Evaluating maximum of mid column.  \n",
    "    # Note max is passed by reference. \n",
    "    max = 0\n",
    "    max, max_index = findMax(arr, rows, mid, max) \n",
    "  \n",
    "    # If we are on the first or last column, \n",
    "    # max is a peak \n",
    "    if (mid == 0 or mid == columns - 1): \n",
    "        return max\n",
    "  \n",
    "    # If mid column maximum is also peak \n",
    "    if (max >= arr[max_index][mid - 1] and \n",
    "        max >= arr[max_index][mid + 1]): \n",
    "        return max\n",
    "  \n",
    "    # If max is less than its left \n",
    "    if (max < arr[max_index][mid - 1]): \n",
    "        return findPeakRec(arr, rows, columns,  \n",
    "                           mid - ceil(mid / 2.0)) \n",
    "  \n",
    "    # If max is less than its left \n",
    "    # if (max < arr[max_index][mid+1]) \n",
    "    return findPeakRec(arr, rows, columns,  \n",
    "                       mid + ceil(mid / 2.0)) \n",
    "  \n",
    "# A wrapper over findPeakRec() \n",
    "def findPeak(arr, rows, columns): \n",
    "    return findPeakRec(arr, rows,  \n",
    "                       columns, columns // 2) \n",
    "  \n",
    "# Driver Code \n",
    "arr = [ [ 10, 8, 10, 10 ], \n",
    "        [ 14, 13, 12, 11 ], \n",
    "        [ 15, 9, 11, 21 ], \n",
    "        [ 16, 17, 19, 20 ] ] \n",
    "  \n",
    "# Number of Columns \n",
    "rows = 4\n",
    "columns = 4\n",
    "print(findPeak(arr, rows, columns)) \n",
    "  \n",
    "# This code is contributed by Mohit Kumar"
   ]
  },
  {
   "cell_type": "code",
   "execution_count": null,
   "metadata": {},
   "outputs": [],
   "source": []
  }
 ],
 "metadata": {
  "kernelspec": {
   "display_name": "Python 3",
   "language": "python",
   "name": "python3"
  },
  "language_info": {
   "codemirror_mode": {
    "name": "ipython",
    "version": 3
   },
   "file_extension": ".py",
   "mimetype": "text/x-python",
   "name": "python",
   "nbconvert_exporter": "python",
   "pygments_lexer": "ipython3",
   "version": "3.7.3"
  }
 },
 "nbformat": 4,
 "nbformat_minor": 2
}
