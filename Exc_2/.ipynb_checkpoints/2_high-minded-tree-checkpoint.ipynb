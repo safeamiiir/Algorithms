{
 "cells": [
  {
   "cell_type": "markdown",
   "metadata": {},
   "source": [
    "### We want to find local maximum in a complete binary tree"
   ]
  },
  {
   "cell_type": "code",
   "execution_count": 128,
   "metadata": {},
   "outputs": [
    {
     "name": "stdout",
     "output_type": "stream",
     "text": [
      "First, enter height of your tree:\n",
      "3\n"
     ]
    }
   ],
   "source": [
    "height = int(input('First, enter height of your tree:\\n'))"
   ]
  },
  {
   "cell_type": "code",
   "execution_count": 2,
   "metadata": {},
   "outputs": [
    {
     "name": "stdout",
     "output_type": "stream",
     "text": [
      "Now, enter nodes from root to leaf (south to north and west to east)\n",
      "2\n"
     ]
    }
   ],
   "source": [
    "\n",
    "arr = [ int(item) for item in input('Now, enter nodes from root to leaf (south to north and west to east)\\n').split(' ')]\n"
   ]
  },
  {
   "cell_type": "code",
   "execution_count": 3,
   "metadata": {},
   "outputs": [
    {
     "data": {
      "text/plain": [
       "[2]"
      ]
     },
     "execution_count": 3,
     "metadata": {},
     "output_type": "execute_result"
    }
   ],
   "source": [
    "arr"
   ]
  },
  {
   "cell_type": "code",
   "execution_count": 4,
   "metadata": {},
   "outputs": [
    {
     "name": "stdout",
     "output_type": "stream",
     "text": [
      "\n",
      "----Answer----\n",
      "This is Local Maximum 2\n",
      "This is index of Local Maximum 1\n"
     ]
    }
   ],
   "source": [
    "    INF = 99999\n",
    "    class Node: \n",
    "        def __init__(self,key): \n",
    "            self.left = None\n",
    "            self.right = None\n",
    "            self.parent = None\n",
    "            self.val = key \n",
    "\n",
    "    def insertLevelOrder(arr, root, i, n): \n",
    "        if i < n: \n",
    "            temp = Node(arr[i])  \n",
    "            root = temp \n",
    "            root.right = insertLevelOrder(arr, root.right, 2 * i + 1, n)\n",
    "            root.left = insertLevelOrder(arr, root.left, 2 * i + 2, n)\n",
    "            if( i == 0 ):\n",
    "                root.parent = -INF\n",
    "            else:\n",
    "                root.parent = arr[(i - 1) // 2 ]\n",
    "        return root\n",
    "            \n",
    "    def localMax(tree):\n",
    "        if(tree.right is not None and tree.left is not None):\n",
    "            if(tree.val > tree.right.val and tree.val > tree.left.val and tree.val > tree.parent ):\n",
    "                return tree.val\n",
    "            else:\n",
    "                if(tree.right.val < tree.left.val):\n",
    "                    return localMax(tree.left)\n",
    "                else:\n",
    "                    return localMax(tree.right)\n",
    "        else:\n",
    "            return tree.val\n",
    "        \n",
    "    tree = None\n",
    "    n = len(arr) \n",
    "    tree = insertLevelOrder(arr, tree, 0, n)\n",
    "    localMaximum = localMax(tree)\n",
    "    print('\\n----Answer----')\n",
    "    print('This is Local Maximum', localMaximum)\n",
    "    print('This is index of Local Maximum', arr.index(localMaximum)+1)"
   ]
  },
  {
   "cell_type": "code",
   "execution_count": null,
   "metadata": {},
   "outputs": [],
   "source": []
  }
 ],
 "metadata": {
  "kernelspec": {
   "display_name": "Python 3",
   "language": "python",
   "name": "python3"
  },
  "language_info": {
   "codemirror_mode": {
    "name": "ipython",
    "version": 3
   },
   "file_extension": ".py",
   "mimetype": "text/x-python",
   "name": "python",
   "nbconvert_exporter": "python",
   "pygments_lexer": "ipython3",
   "version": "3.7.3"
  }
 },
 "nbformat": 4,
 "nbformat_minor": 2
}
