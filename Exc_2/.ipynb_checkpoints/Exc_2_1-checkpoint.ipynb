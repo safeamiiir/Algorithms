{
 "cells": [
  {
   "cell_type": "code",
   "execution_count": 87,
   "metadata": {},
   "outputs": [
    {
     "name": "stdout",
     "output_type": "stream",
     "text": [
      "Maximum element is -999999999999\n"
     ]
    }
   ],
   "source": [
    "# Python3 program to find maximum \n",
    "# and minimum in a Bianry Tree \n",
    "  \n",
    "# A class to create a new node  \n",
    "class newNode: \n",
    "    def __init__(self, data): \n",
    "        self.data = data  \n",
    "        self.left = self.right = None\n",
    "      \n",
    "# Returns maximum value in a  \n",
    "# given Binary Tree  \n",
    "def findMax(root): \n",
    "      \n",
    "    # Base case  \n",
    "    if (root == None):  \n",
    "        return -999999999999\n",
    "  \n",
    "    # Return maximum of 3 values:  \n",
    "    # 1) Root's data 2) Max in Left Subtree  \n",
    "    # 3) Max in right subtree  \n",
    "    res = root.data \n",
    "    lres = findMax(root.left)  \n",
    "    rres = findMax(root.right)  \n",
    "    print(res)\n",
    "    print(lres)\n",
    "    print(rres)\n",
    "    print('--------')\n",
    "    if (lres > res): \n",
    "        res = lres  \n",
    "    if (rres > res):  \n",
    "        res = rres  \n",
    "    return res \n",
    "  \n",
    "# Driver Code \n",
    "if __name__ == '__main__': \n",
    "    root = newNode(6)  \n",
    "    root.right = newNode(5)  \n",
    "    root.left = newNode(4)  \n",
    "    root.right.right = newNode(1)  \n",
    "    root.right.left = newNode(2)  \n",
    "    root.left.right = newNode(7)  \n",
    "    root.left.left = newNode(4)  \n",
    "  \n",
    "    print(\"Maximum element is\",  \n",
    "                 findMax(root))  \n",
    "  "
   ]
  },
  {
   "cell_type": "code",
   "execution_count": null,
   "metadata": {},
   "outputs": [],
   "source": []
  },
  {
   "cell_type": "code",
   "execution_count": null,
   "metadata": {},
   "outputs": [],
   "source": []
  }
 ],
 "metadata": {
  "kernelspec": {
   "display_name": "Python 3",
   "language": "python",
   "name": "python3"
  },
  "language_info": {
   "codemirror_mode": {
    "name": "ipython",
    "version": 3
   },
   "file_extension": ".py",
   "mimetype": "text/x-python",
   "name": "python",
   "nbconvert_exporter": "python",
   "pygments_lexer": "ipython3",
   "version": "3.7.3"
  }
 },
 "nbformat": 4,
 "nbformat_minor": 2
}
