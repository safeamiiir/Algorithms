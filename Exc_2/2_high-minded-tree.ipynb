{
 "cells": [
  {
   "cell_type": "markdown",
   "metadata": {},
   "source": [
    "### We want to find local maximum in a complete binary tree"
   ]
  },
  {
   "cell_type": "code",
   "execution_count": 134,
   "metadata": {},
   "outputs": [],
   "source": [
    "def arrayToCompleteTree(array):\n",
    "    tree = array\n",
    "    for index, item in enumerate(array):\n",
    "        print('array', array[index])\n",
    "        tree[index] = {\n",
    "            'parent': array[index],\n",
    "            'child1': array[index],\n",
    "            'child2': array[index],\n",
    "            'value': array[index],\n",
    "            'index': array[index] }\n",
    "    return tree"
   ]
  },
  {
   "cell_type": "code",
   "execution_count": 135,
   "metadata": {},
   "outputs": [
    {
     "name": "stdout",
     "output_type": "stream",
     "text": [
      "First, enter height of your tree:\n",
      "2\n"
     ]
    }
   ],
   "source": [
    "height = input('First, enter height of your tree:\\n')"
   ]
  },
  {
   "cell_type": "code",
   "execution_count": 136,
   "metadata": {},
   "outputs": [
    {
     "name": "stdout",
     "output_type": "stream",
     "text": [
      "Now, enter nodes from root to leaf (south to north and west to east)\n",
      "1 2 3\n",
      "array 1\n",
      "array 2\n",
      "array 3\n"
     ]
    }
   ],
   "source": [
    "\n",
    "inpArray = input('Now, enter nodes from root to leaf (south to north and west to east)\\n').split(' ')\n",
    "tree = arrayToCompleteTree(inpArray)\n",
    "\n"
   ]
  },
  {
   "cell_type": "code",
   "execution_count": 137,
   "metadata": {},
   "outputs": [
    {
     "data": {
      "text/plain": [
       "[{'parent': '1', 'child1': '1', 'child2': '1', 'value': '1', 'index': '1'},\n",
       " {'parent': '2', 'child1': '2', 'child2': '2', 'value': '2', 'index': '2'},\n",
       " {'parent': '3', 'child1': '3', 'child2': '3', 'value': '3', 'index': '3'}]"
      ]
     },
     "execution_count": 137,
     "metadata": {},
     "output_type": "execute_result"
    }
   ],
   "source": [
    "tree"
   ]
  },
  {
   "cell_type": "code",
   "execution_count": null,
   "metadata": {},
   "outputs": [],
   "source": []
  }
 ],
 "metadata": {
  "kernelspec": {
   "display_name": "Python 3",
   "language": "python",
   "name": "python3"
  },
  "language_info": {
   "codemirror_mode": {
    "name": "ipython",
    "version": 3
   },
   "file_extension": ".py",
   "mimetype": "text/x-python",
   "name": "python",
   "nbconvert_exporter": "python",
   "pygments_lexer": "ipython3",
   "version": "3.7.3"
  }
 },
 "nbformat": 4,
 "nbformat_minor": 2
}
